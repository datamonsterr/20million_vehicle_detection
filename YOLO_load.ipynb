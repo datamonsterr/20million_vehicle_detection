{
  "nbformat": 4,
  "nbformat_minor": 0,
  "metadata": {
    "colab": {
      "provenance": []
    },
    "kernelspec": {
      "name": "python3",
      "display_name": "Python 3"
    },
    "language_info": {
      "name": "python"
    }
  },
  "cells": [
    {
      "cell_type": "code",
      "execution_count": null,
      "metadata": {
        "id": "-yhDZ8lOWjYC"
      },
      "outputs": [],
      "source": [
        "!pip install ultralytics supervision roboflow\n",
        "!pip install -U ipywidgets\n",
        "!pip install -U albumentations"
      ]
    },
    {
      "cell_type": "code",
      "source": [
        "from ultralytics import YOLO\n",
        "mock_model = YOLO(\"filepath.pt\")"
      ],
      "metadata": {
        "id": "B2gXWp7FXIe9"
      },
      "execution_count": null,
      "outputs": []
    }
  ]
}